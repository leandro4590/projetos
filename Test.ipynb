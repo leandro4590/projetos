{
  "cells": [
    {
      "cell_type": "markdown",
      "metadata": {
        "application/vnd.databricks.v1+cell": {
          "cellMetadata": {},
          "inputWidgets": {},
          "nuid": "3da1ca6a-5948-4f26-b2a2-6c62f103bc14",
          "showTitle": false,
          "title": ""
        },
        "id": "3c__dsz6lON9"
      },
      "source": [
        "# Nova seção"
      ]
    },
    {
      "cell_type": "code",
      "execution_count": null,
      "metadata": {
        "application/vnd.databricks.v1+cell": {
          "cellMetadata": {
            "byteLimit": 2048000,
            "rowLimit": 10000
          },
          "inputWidgets": {},
          "nuid": "c8bdcc9b-a932-442d-abdc-cca39c29e637",
          "showTitle": false,
          "title": ""
        },
        "colab": {
          "base_uri": "https://localhost:8080/"
        },
        "id": "KDfSKQJTmtUt",
        "outputId": "c4f366fe-9dc1-463b-a2df-786126193d60"
      },
      "outputs": [
        {
          "output_type": "display_data",
          "data": {
            "text/plain": [
              "com.databricks.backend.common.rpc.CommandCancelledException\n",
              "\tat com.databricks.spark.chauffeur.ExecContextState.cancel(ExecContextState.scala:436)\n",
              "\tat com.databricks.spark.chauffeur.ChauffeurState.cancelExecution(ChauffeurState.scala:1266)\n",
              "\tat com.databricks.spark.chauffeur.ChauffeurState.$anonfun$process$1(ChauffeurState.scala:983)\n",
              "\tat com.databricks.logging.UsageLogging.$anonfun$recordOperation$1(UsageLogging.scala:573)\n",
              "\tat com.databricks.logging.UsageLogging.executeThunkAndCaptureResultTags$1(UsageLogging.scala:669)\n",
              "\tat com.databricks.logging.UsageLogging.$anonfun$recordOperationWithResultTags$4(UsageLogging.scala:687)\n",
              "\tat com.databricks.logging.UsageLogging.$anonfun$withAttributionContext$1(UsageLogging.scala:426)\n",
              "\tat scala.util.DynamicVariable.withValue(DynamicVariable.scala:62)\n",
              "\tat com.databricks.logging.AttributionContext$.withValue(AttributionContext.scala:216)\n",
              "\tat com.databricks.logging.UsageLogging.withAttributionContext(UsageLogging.scala:424)\n",
              "\tat com.databricks.logging.UsageLogging.withAttributionContext$(UsageLogging.scala:418)\n",
              "\tat com.databricks.spark.chauffeur.ChauffeurState.withAttributionContext(ChauffeurState.scala:68)\n",
              "\tat com.databricks.logging.UsageLogging.withAttributionTags(UsageLogging.scala:472)\n",
              "\tat com.databricks.logging.UsageLogging.withAttributionTags$(UsageLogging.scala:455)\n",
              "\tat com.databricks.spark.chauffeur.ChauffeurState.withAttributionTags(ChauffeurState.scala:68)\n",
              "\tat com.databricks.logging.UsageLogging.recordOperationWithResultTags(UsageLogging.scala:664)\n",
              "\tat com.databricks.logging.UsageLogging.recordOperationWithResultTags$(UsageLogging.scala:582)\n",
              "\tat com.databricks.spark.chauffeur.ChauffeurState.recordOperationWithResultTags(ChauffeurState.scala:68)\n",
              "\tat com.databricks.logging.UsageLogging.recordOperation(UsageLogging.scala:573)\n",
              "\tat com.databricks.logging.UsageLogging.recordOperation$(UsageLogging.scala:542)\n",
              "\tat com.databricks.spark.chauffeur.ChauffeurState.recordOperation(ChauffeurState.scala:68)\n",
              "\tat com.databricks.spark.chauffeur.ChauffeurState.process(ChauffeurState.scala:944)\n",
              "\tat com.databricks.spark.chauffeur.Chauffeur$$anon$1$$anonfun$receive$1.handleDriverRequest$1(Chauffeur.scala:682)\n",
              "\tat com.databricks.spark.chauffeur.Chauffeur$$anon$1$$anonfun$receive$1.$anonfun$applyOrElse$5(Chauffeur.scala:708)\n",
              "\tat com.databricks.logging.UsageLogging.executeThunkAndCaptureResultTags$1(UsageLogging.scala:669)\n",
              "\tat com.databricks.logging.UsageLogging.$anonfun$recordOperationWithResultTags$4(UsageLogging.scala:687)\n",
              "\tat com.databricks.logging.UsageLogging.$anonfun$withAttributionContext$1(UsageLogging.scala:426)\n",
              "\tat scala.util.DynamicVariable.withValue(DynamicVariable.scala:62)\n",
              "\tat com.databricks.logging.AttributionContext$.withValue(AttributionContext.scala:216)\n",
              "\tat com.databricks.logging.UsageLogging.withAttributionContext(UsageLogging.scala:424)\n",
              "\tat com.databricks.logging.UsageLogging.withAttributionContext$(UsageLogging.scala:418)\n",
              "\tat com.databricks.rpc.ServerBackend.withAttributionContext(ServerBackend.scala:22)\n",
              "\tat com.databricks.logging.UsageLogging.withAttributionTags(UsageLogging.scala:472)\n",
              "\tat com.databricks.logging.UsageLogging.withAttributionTags$(UsageLogging.scala:455)\n",
              "\tat com.databricks.rpc.ServerBackend.withAttributionTags(ServerBackend.scala:22)\n",
              "\tat com.databricks.logging.UsageLogging.recordOperationWithResultTags(UsageLogging.scala:664)\n",
              "\tat com.databricks.logging.UsageLogging.recordOperationWithResultTags$(UsageLogging.scala:582)\n",
              "\tat com.databricks.rpc.ServerBackend.recordOperationWithResultTags(ServerBackend.scala:22)\n",
              "\tat com.databricks.spark.chauffeur.Chauffeur$$anon$1$$anonfun$receive$1.handleDriverRequestWithUsageLogging$1(Chauffeur.scala:707)\n",
              "\tat com.databricks.spark.chauffeur.Chauffeur$$anon$1$$anonfun$receive$1.applyOrElse(Chauffeur.scala:762)\n",
              "\tat com.databricks.spark.chauffeur.Chauffeur$$anon$1$$anonfun$receive$1.applyOrElse(Chauffeur.scala:555)\n",
              "\tat com.databricks.rpc.ServerBackend.$anonfun$internalReceive0$2(ServerBackend.scala:174)\n",
              "\tat com.databricks.rpc.ServerBackend$$anonfun$commonReceive$1.applyOrElse(ServerBackend.scala:200)\n",
              "\tat com.databricks.rpc.ServerBackend$$anonfun$commonReceive$1.applyOrElse(ServerBackend.scala:200)\n",
              "\tat com.databricks.rpc.ServerBackend.internalReceive0(ServerBackend.scala:171)\n",
              "\tat com.databricks.rpc.ServerBackend.$anonfun$internalReceive$1(ServerBackend.scala:147)\n",
              "\tat com.databricks.logging.UsageLogging.$anonfun$recordOperation$1(UsageLogging.scala:573)\n",
              "\tat com.databricks.logging.UsageLogging.executeThunkAndCaptureResultTags$1(UsageLogging.scala:669)\n",
              "\tat com.databricks.logging.UsageLogging.$anonfun$recordOperationWithResultTags$4(UsageLogging.scala:687)\n",
              "\tat com.databricks.logging.UsageLogging.$anonfun$withAttributionContext$1(UsageLogging.scala:426)\n",
              "\tat scala.util.DynamicVariable.withValue(DynamicVariable.scala:62)\n",
              "\tat com.databricks.logging.AttributionContext$.withValue(AttributionContext.scala:216)\n",
              "\tat com.databricks.logging.UsageLogging.withAttributionContext(UsageLogging.scala:424)\n",
              "\tat com.databricks.logging.UsageLogging.withAttributionContext$(UsageLogging.scala:418)\n",
              "\tat com.databricks.rpc.ServerBackend.withAttributionContext(ServerBackend.scala:22)\n",
              "\tat com.databricks.logging.UsageLogging.withAttributionTags(UsageLogging.scala:472)\n",
              "\tat com.databricks.logging.UsageLogging.withAttributionTags$(UsageLogging.scala:455)\n",
              "\tat com.databricks.rpc.ServerBackend.withAttributionTags(ServerBackend.scala:22)\n",
              "\tat com.databricks.logging.UsageLogging.recordOperationWithResultTags(UsageLogging.scala:664)\n",
              "\tat com.databricks.logging.UsageLogging.recordOperationWithResultTags$(UsageLogging.scala:582)\n",
              "\tat com.databricks.rpc.ServerBackend.recordOperationWithResultTags(ServerBackend.scala:22)\n",
              "\tat com.databricks.logging.UsageLogging.recordOperation(UsageLogging.scala:573)\n",
              "\tat com.databricks.logging.UsageLogging.recordOperation$(UsageLogging.scala:542)\n",
              "\tat com.databricks.rpc.ServerBackend.recordOperation(ServerBackend.scala:22)\n",
              "\tat com.databricks.rpc.ServerBackend.internalReceive(ServerBackend.scala:147)\n",
              "\tat com.databricks.rpc.JettyServer$RequestManager.handleRPC(JettyServer.scala:1020)\n",
              "\tat com.databricks.rpc.JettyServer$RequestManager.handleRequestAndRespond(JettyServer.scala:941)\n",
              "\tat com.databricks.rpc.JettyServer$RequestManager.$anonfun$handleHttp$6(JettyServer.scala:545)\n",
              "\tat com.databricks.rpc.JettyServer$RequestManager.$anonfun$handleHttp$6$adapted(JettyServer.scala:514)\n",
              "\tat com.databricks.logging.activity.ActivityContextFactory$.$anonfun$withActivityInternal$4(ActivityContextFactory.scala:405)\n",
              "\tat com.databricks.logging.UsageLogging.$anonfun$withAttributionContext$1(UsageLogging.scala:426)\n",
              "\tat scala.util.DynamicVariable.withValue(DynamicVariable.scala:62)\n",
              "\tat com.databricks.logging.AttributionContext$.withValue(AttributionContext.scala:216)\n",
              "\tat com.databricks.logging.UsageLogging.withAttributionContext(UsageLogging.scala:424)\n",
              "\tat com.databricks.logging.UsageLogging.withAttributionContext$(UsageLogging.scala:418)\n",
              "\tat com.databricks.logging.activity.ActivityContextFactory$.withAttributionContext(ActivityContextFactory.scala:58)\n",
              "\tat com.databricks.logging.activity.ActivityContextFactory$.$anonfun$withActivityInternal$1(ActivityContextFactory.scala:405)\n",
              "\tat com.databricks.context.integrity.IntegrityCheckContext$ThreadLocalStorage$.withValue(IntegrityCheckContext.scala:44)\n",
              "\tat com.databricks.logging.activity.ActivityContextFactory$.withActivityInternal(ActivityContextFactory.scala:380)\n",
              "\tat com.databricks.logging.activity.ActivityContextFactory$.withServiceRequestActivity(ActivityContextFactory.scala:159)\n",
              "\tat com.databricks.rpc.JettyServer$RequestManager.handleHttp(JettyServer.scala:514)\n",
              "\tat com.databricks.rpc.JettyServer$RequestManager.doPost(JettyServer.scala:404)\n",
              "\tat javax.servlet.http.HttpServlet.service(HttpServlet.java:665)\n",
              "\tat com.databricks.rpc.HttpServletWithPatch.service(HttpServletWithPatch.scala:33)\n",
              "\tat javax.servlet.http.HttpServlet.service(HttpServlet.java:750)\n",
              "\tat org.eclipse.jetty.servlet.ServletHolder.handle(ServletHolder.java:799)\n",
              "\tat org.eclipse.jetty.servlet.ServletHandler.doHandle(ServletHandler.java:554)\n",
              "\tat org.eclipse.jetty.server.handler.ScopedHandler.nextScope(ScopedHandler.java:190)\n",
              "\tat org.eclipse.jetty.servlet.ServletHandler.doScope(ServletHandler.java:505)\n",
              "\tat org.eclipse.jetty.server.handler.ScopedHandler.handle(ScopedHandler.java:141)\n",
              "\tat org.eclipse.jetty.server.handler.HandlerWrapper.handle(HandlerWrapper.java:127)\n",
              "\tat org.eclipse.jetty.server.Server.handle(Server.java:516)\n",
              "\tat org.eclipse.jetty.server.HttpChannel.lambda$handle$1(HttpChannel.java:487)\n",
              "\tat org.eclipse.jetty.server.HttpChannel.dispatch(HttpChannel.java:732)\n",
              "\tat org.eclipse.jetty.server.HttpChannel.handle(HttpChannel.java:479)\n",
              "\tat org.eclipse.jetty.server.HttpConnection.onFillable(HttpConnection.java:277)\n",
              "\tat org.eclipse.jetty.io.AbstractConnection$ReadCallback.succeeded(AbstractConnection.java:311)\n",
              "\tat org.eclipse.jetty.io.FillInterest.fillable(FillInterest.java:105)\n",
              "\tat org.eclipse.jetty.io.ssl.SslConnection$DecryptedEndPoint.onFillable(SslConnection.java:555)\n",
              "\tat org.eclipse.jetty.io.ssl.SslConnection.onFillable(SslConnection.java:410)\n",
              "\tat org.eclipse.jetty.io.ssl.SslConnection$2.succeeded(SslConnection.java:164)\n",
              "\tat org.eclipse.jetty.io.FillInterest.fillable(FillInterest.java:105)\n",
              "\tat org.eclipse.jetty.io.ChannelEndPoint$1.run(ChannelEndPoint.java:104)\n",
              "\tat org.eclipse.jetty.util.thread.strategy.EatWhatYouKill.runTask(EatWhatYouKill.java:338)\n",
              "\tat org.eclipse.jetty.util.thread.strategy.EatWhatYouKill.doProduce(EatWhatYouKill.java:315)\n",
              "\tat org.eclipse.jetty.util.thread.strategy.EatWhatYouKill.tryProduce(EatWhatYouKill.java:173)\n",
              "\tat org.eclipse.jetty.util.thread.strategy.EatWhatYouKill.run(EatWhatYouKill.java:131)\n",
              "\tat org.eclipse.jetty.util.thread.ReservedThreadExecutor$ReservedThread.run(ReservedThreadExecutor.java:409)\n",
              "\tat com.databricks.rpc.InstrumentedQueuedThreadPool$$anon$1.$anonfun$run$4(InstrumentedQueuedThreadPool.scala:104)\n",
              "\tat scala.runtime.java8.JFunction0$mcV$sp.apply(JFunction0$mcV$sp.java:23)\n",
              "\tat com.databricks.logging.UsageLogging.withAttributionContext(UsageLogging.scala:420)\n",
              "\tat com.databricks.logging.UsageLogging.withAttributionContext$(UsageLogging.scala:418)\n",
              "\tat com.databricks.rpc.InstrumentedQueuedThreadPool.withAttributionContext(InstrumentedQueuedThreadPool.scala:47)\n",
              "\tat com.databricks.rpc.InstrumentedQueuedThreadPool$$anon$1.$anonfun$run$1(InstrumentedQueuedThreadPool.scala:104)\n",
              "\tat scala.runtime.java8.JFunction0$mcV$sp.apply(JFunction0$mcV$sp.java:23)\n",
              "\tat com.databricks.instrumentation.QueuedThreadPoolInstrumenter.trackActiveThreads(QueuedThreadPoolInstrumenter.scala:66)\n",
              "\tat com.databricks.instrumentation.QueuedThreadPoolInstrumenter.trackActiveThreads$(QueuedThreadPoolInstrumenter.scala:63)\n",
              "\tat com.databricks.rpc.InstrumentedQueuedThreadPool.trackActiveThreads(InstrumentedQueuedThreadPool.scala:47)\n",
              "\tat com.databricks.rpc.InstrumentedQueuedThreadPool$$anon$1.run(InstrumentedQueuedThreadPool.scala:86)\n",
              "\tat org.eclipse.jetty.util.thread.QueuedThreadPool.runJob(QueuedThreadPool.java:883)\n",
              "\tat org.eclipse.jetty.util.thread.QueuedThreadPool$Runner.run(QueuedThreadPool.java:1034)\n",
              "\tat java.lang.Thread.run(Thread.java:750)"
            ]
          },
          "metadata": {
            "application/vnd.databricks.v1+output": {
              "addedWidgets": {},
              "arguments": {},
              "datasetInfos": [],
              "jupyterProps": null,
              "metadata": {
                "errorSummary": "Cancelled"
              },
              "removedWidgets": [],
              "sqlProps": null,
              "stackFrames": [
                "com.databricks.backend.common.rpc.CommandCancelledException",
                "\tat com.databricks.spark.chauffeur.ExecContextState.cancel(ExecContextState.scala:436)",
                "\tat com.databricks.spark.chauffeur.ChauffeurState.cancelExecution(ChauffeurState.scala:1266)",
                "\tat com.databricks.spark.chauffeur.ChauffeurState.$anonfun$process$1(ChauffeurState.scala:983)",
                "\tat com.databricks.logging.UsageLogging.$anonfun$recordOperation$1(UsageLogging.scala:573)",
                "\tat com.databricks.logging.UsageLogging.executeThunkAndCaptureResultTags$1(UsageLogging.scala:669)",
                "\tat com.databricks.logging.UsageLogging.$anonfun$recordOperationWithResultTags$4(UsageLogging.scala:687)",
                "\tat com.databricks.logging.UsageLogging.$anonfun$withAttributionContext$1(UsageLogging.scala:426)",
                "\tat scala.util.DynamicVariable.withValue(DynamicVariable.scala:62)",
                "\tat com.databricks.logging.AttributionContext$.withValue(AttributionContext.scala:216)",
                "\tat com.databricks.logging.UsageLogging.withAttributionContext(UsageLogging.scala:424)",
                "\tat com.databricks.logging.UsageLogging.withAttributionContext$(UsageLogging.scala:418)",
                "\tat com.databricks.spark.chauffeur.ChauffeurState.withAttributionContext(ChauffeurState.scala:68)",
                "\tat com.databricks.logging.UsageLogging.withAttributionTags(UsageLogging.scala:472)",
                "\tat com.databricks.logging.UsageLogging.withAttributionTags$(UsageLogging.scala:455)",
                "\tat com.databricks.spark.chauffeur.ChauffeurState.withAttributionTags(ChauffeurState.scala:68)",
                "\tat com.databricks.logging.UsageLogging.recordOperationWithResultTags(UsageLogging.scala:664)",
                "\tat com.databricks.logging.UsageLogging.recordOperationWithResultTags$(UsageLogging.scala:582)",
                "\tat com.databricks.spark.chauffeur.ChauffeurState.recordOperationWithResultTags(ChauffeurState.scala:68)",
                "\tat com.databricks.logging.UsageLogging.recordOperation(UsageLogging.scala:573)",
                "\tat com.databricks.logging.UsageLogging.recordOperation$(UsageLogging.scala:542)",
                "\tat com.databricks.spark.chauffeur.ChauffeurState.recordOperation(ChauffeurState.scala:68)",
                "\tat com.databricks.spark.chauffeur.ChauffeurState.process(ChauffeurState.scala:944)",
                "\tat com.databricks.spark.chauffeur.Chauffeur$$anon$1$$anonfun$receive$1.handleDriverRequest$1(Chauffeur.scala:682)",
                "\tat com.databricks.spark.chauffeur.Chauffeur$$anon$1$$anonfun$receive$1.$anonfun$applyOrElse$5(Chauffeur.scala:708)",
                "\tat com.databricks.logging.UsageLogging.executeThunkAndCaptureResultTags$1(UsageLogging.scala:669)",
                "\tat com.databricks.logging.UsageLogging.$anonfun$recordOperationWithResultTags$4(UsageLogging.scala:687)",
                "\tat com.databricks.logging.UsageLogging.$anonfun$withAttributionContext$1(UsageLogging.scala:426)",
                "\tat scala.util.DynamicVariable.withValue(DynamicVariable.scala:62)",
                "\tat com.databricks.logging.AttributionContext$.withValue(AttributionContext.scala:216)",
                "\tat com.databricks.logging.UsageLogging.withAttributionContext(UsageLogging.scala:424)",
                "\tat com.databricks.logging.UsageLogging.withAttributionContext$(UsageLogging.scala:418)",
                "\tat com.databricks.rpc.ServerBackend.withAttributionContext(ServerBackend.scala:22)",
                "\tat com.databricks.logging.UsageLogging.withAttributionTags(UsageLogging.scala:472)",
                "\tat com.databricks.logging.UsageLogging.withAttributionTags$(UsageLogging.scala:455)",
                "\tat com.databricks.rpc.ServerBackend.withAttributionTags(ServerBackend.scala:22)",
                "\tat com.databricks.logging.UsageLogging.recordOperationWithResultTags(UsageLogging.scala:664)",
                "\tat com.databricks.logging.UsageLogging.recordOperationWithResultTags$(UsageLogging.scala:582)",
                "\tat com.databricks.rpc.ServerBackend.recordOperationWithResultTags(ServerBackend.scala:22)",
                "\tat com.databricks.spark.chauffeur.Chauffeur$$anon$1$$anonfun$receive$1.handleDriverRequestWithUsageLogging$1(Chauffeur.scala:707)",
                "\tat com.databricks.spark.chauffeur.Chauffeur$$anon$1$$anonfun$receive$1.applyOrElse(Chauffeur.scala:762)",
                "\tat com.databricks.spark.chauffeur.Chauffeur$$anon$1$$anonfun$receive$1.applyOrElse(Chauffeur.scala:555)",
                "\tat com.databricks.rpc.ServerBackend.$anonfun$internalReceive0$2(ServerBackend.scala:174)",
                "\tat com.databricks.rpc.ServerBackend$$anonfun$commonReceive$1.applyOrElse(ServerBackend.scala:200)",
                "\tat com.databricks.rpc.ServerBackend$$anonfun$commonReceive$1.applyOrElse(ServerBackend.scala:200)",
                "\tat com.databricks.rpc.ServerBackend.internalReceive0(ServerBackend.scala:171)",
                "\tat com.databricks.rpc.ServerBackend.$anonfun$internalReceive$1(ServerBackend.scala:147)",
                "\tat com.databricks.logging.UsageLogging.$anonfun$recordOperation$1(UsageLogging.scala:573)",
                "\tat com.databricks.logging.UsageLogging.executeThunkAndCaptureResultTags$1(UsageLogging.scala:669)",
                "\tat com.databricks.logging.UsageLogging.$anonfun$recordOperationWithResultTags$4(UsageLogging.scala:687)",
                "\tat com.databricks.logging.UsageLogging.$anonfun$withAttributionContext$1(UsageLogging.scala:426)",
                "\tat scala.util.DynamicVariable.withValue(DynamicVariable.scala:62)",
                "\tat com.databricks.logging.AttributionContext$.withValue(AttributionContext.scala:216)",
                "\tat com.databricks.logging.UsageLogging.withAttributionContext(UsageLogging.scala:424)",
                "\tat com.databricks.logging.UsageLogging.withAttributionContext$(UsageLogging.scala:418)",
                "\tat com.databricks.rpc.ServerBackend.withAttributionContext(ServerBackend.scala:22)",
                "\tat com.databricks.logging.UsageLogging.withAttributionTags(UsageLogging.scala:472)",
                "\tat com.databricks.logging.UsageLogging.withAttributionTags$(UsageLogging.scala:455)",
                "\tat com.databricks.rpc.ServerBackend.withAttributionTags(ServerBackend.scala:22)",
                "\tat com.databricks.logging.UsageLogging.recordOperationWithResultTags(UsageLogging.scala:664)",
                "\tat com.databricks.logging.UsageLogging.recordOperationWithResultTags$(UsageLogging.scala:582)",
                "\tat com.databricks.rpc.ServerBackend.recordOperationWithResultTags(ServerBackend.scala:22)",
                "\tat com.databricks.logging.UsageLogging.recordOperation(UsageLogging.scala:573)",
                "\tat com.databricks.logging.UsageLogging.recordOperation$(UsageLogging.scala:542)",
                "\tat com.databricks.rpc.ServerBackend.recordOperation(ServerBackend.scala:22)",
                "\tat com.databricks.rpc.ServerBackend.internalReceive(ServerBackend.scala:147)",
                "\tat com.databricks.rpc.JettyServer$RequestManager.handleRPC(JettyServer.scala:1020)",
                "\tat com.databricks.rpc.JettyServer$RequestManager.handleRequestAndRespond(JettyServer.scala:941)",
                "\tat com.databricks.rpc.JettyServer$RequestManager.$anonfun$handleHttp$6(JettyServer.scala:545)",
                "\tat com.databricks.rpc.JettyServer$RequestManager.$anonfun$handleHttp$6$adapted(JettyServer.scala:514)",
                "\tat com.databricks.logging.activity.ActivityContextFactory$.$anonfun$withActivityInternal$4(ActivityContextFactory.scala:405)",
                "\tat com.databricks.logging.UsageLogging.$anonfun$withAttributionContext$1(UsageLogging.scala:426)",
                "\tat scala.util.DynamicVariable.withValue(DynamicVariable.scala:62)",
                "\tat com.databricks.logging.AttributionContext$.withValue(AttributionContext.scala:216)",
                "\tat com.databricks.logging.UsageLogging.withAttributionContext(UsageLogging.scala:424)",
                "\tat com.databricks.logging.UsageLogging.withAttributionContext$(UsageLogging.scala:418)",
                "\tat com.databricks.logging.activity.ActivityContextFactory$.withAttributionContext(ActivityContextFactory.scala:58)",
                "\tat com.databricks.logging.activity.ActivityContextFactory$.$anonfun$withActivityInternal$1(ActivityContextFactory.scala:405)",
                "\tat com.databricks.context.integrity.IntegrityCheckContext$ThreadLocalStorage$.withValue(IntegrityCheckContext.scala:44)",
                "\tat com.databricks.logging.activity.ActivityContextFactory$.withActivityInternal(ActivityContextFactory.scala:380)",
                "\tat com.databricks.logging.activity.ActivityContextFactory$.withServiceRequestActivity(ActivityContextFactory.scala:159)",
                "\tat com.databricks.rpc.JettyServer$RequestManager.handleHttp(JettyServer.scala:514)",
                "\tat com.databricks.rpc.JettyServer$RequestManager.doPost(JettyServer.scala:404)",
                "\tat javax.servlet.http.HttpServlet.service(HttpServlet.java:665)",
                "\tat com.databricks.rpc.HttpServletWithPatch.service(HttpServletWithPatch.scala:33)",
                "\tat javax.servlet.http.HttpServlet.service(HttpServlet.java:750)",
                "\tat org.eclipse.jetty.servlet.ServletHolder.handle(ServletHolder.java:799)",
                "\tat org.eclipse.jetty.servlet.ServletHandler.doHandle(ServletHandler.java:554)",
                "\tat org.eclipse.jetty.server.handler.ScopedHandler.nextScope(ScopedHandler.java:190)",
                "\tat org.eclipse.jetty.servlet.ServletHandler.doScope(ServletHandler.java:505)",
                "\tat org.eclipse.jetty.server.handler.ScopedHandler.handle(ScopedHandler.java:141)",
                "\tat org.eclipse.jetty.server.handler.HandlerWrapper.handle(HandlerWrapper.java:127)",
                "\tat org.eclipse.jetty.server.Server.handle(Server.java:516)",
                "\tat org.eclipse.jetty.server.HttpChannel.lambda$handle$1(HttpChannel.java:487)",
                "\tat org.eclipse.jetty.server.HttpChannel.dispatch(HttpChannel.java:732)",
                "\tat org.eclipse.jetty.server.HttpChannel.handle(HttpChannel.java:479)",
                "\tat org.eclipse.jetty.server.HttpConnection.onFillable(HttpConnection.java:277)",
                "\tat org.eclipse.jetty.io.AbstractConnection$ReadCallback.succeeded(AbstractConnection.java:311)",
                "\tat org.eclipse.jetty.io.FillInterest.fillable(FillInterest.java:105)",
                "\tat org.eclipse.jetty.io.ssl.SslConnection$DecryptedEndPoint.onFillable(SslConnection.java:555)",
                "\tat org.eclipse.jetty.io.ssl.SslConnection.onFillable(SslConnection.java:410)",
                "\tat org.eclipse.jetty.io.ssl.SslConnection$2.succeeded(SslConnection.java:164)",
                "\tat org.eclipse.jetty.io.FillInterest.fillable(FillInterest.java:105)",
                "\tat org.eclipse.jetty.io.ChannelEndPoint$1.run(ChannelEndPoint.java:104)",
                "\tat org.eclipse.jetty.util.thread.strategy.EatWhatYouKill.runTask(EatWhatYouKill.java:338)",
                "\tat org.eclipse.jetty.util.thread.strategy.EatWhatYouKill.doProduce(EatWhatYouKill.java:315)",
                "\tat org.eclipse.jetty.util.thread.strategy.EatWhatYouKill.tryProduce(EatWhatYouKill.java:173)",
                "\tat org.eclipse.jetty.util.thread.strategy.EatWhatYouKill.run(EatWhatYouKill.java:131)",
                "\tat org.eclipse.jetty.util.thread.ReservedThreadExecutor$ReservedThread.run(ReservedThreadExecutor.java:409)",
                "\tat com.databricks.rpc.InstrumentedQueuedThreadPool$$anon$1.$anonfun$run$4(InstrumentedQueuedThreadPool.scala:104)",
                "\tat scala.runtime.java8.JFunction0$mcV$sp.apply(JFunction0$mcV$sp.java:23)",
                "\tat com.databricks.logging.UsageLogging.withAttributionContext(UsageLogging.scala:420)",
                "\tat com.databricks.logging.UsageLogging.withAttributionContext$(UsageLogging.scala:418)",
                "\tat com.databricks.rpc.InstrumentedQueuedThreadPool.withAttributionContext(InstrumentedQueuedThreadPool.scala:47)",
                "\tat com.databricks.rpc.InstrumentedQueuedThreadPool$$anon$1.$anonfun$run$1(InstrumentedQueuedThreadPool.scala:104)",
                "\tat scala.runtime.java8.JFunction0$mcV$sp.apply(JFunction0$mcV$sp.java:23)",
                "\tat com.databricks.instrumentation.QueuedThreadPoolInstrumenter.trackActiveThreads(QueuedThreadPoolInstrumenter.scala:66)",
                "\tat com.databricks.instrumentation.QueuedThreadPoolInstrumenter.trackActiveThreads$(QueuedThreadPoolInstrumenter.scala:63)",
                "\tat com.databricks.rpc.InstrumentedQueuedThreadPool.trackActiveThreads(InstrumentedQueuedThreadPool.scala:47)",
                "\tat com.databricks.rpc.InstrumentedQueuedThreadPool$$anon$1.run(InstrumentedQueuedThreadPool.scala:86)",
                "\tat org.eclipse.jetty.util.thread.QueuedThreadPool.runJob(QueuedThreadPool.java:883)",
                "\tat org.eclipse.jetty.util.thread.QueuedThreadPool$Runner.run(QueuedThreadPool.java:1034)",
                "\tat java.lang.Thread.run(Thread.java:750)"
              ],
              "type": "baseError"
            }
          }
        }
      ],
      "source": [
        "pip install pyspark"
      ]
    },
    {
      "cell_type": "code",
      "execution_count": null,
      "metadata": {
        "application/vnd.databricks.v1+cell": {
          "cellMetadata": {
            "byteLimit": 2048000,
            "rowLimit": 10000
          },
          "inputWidgets": {},
          "nuid": "f198eb5a-699e-4c9b-89d7-1d9486e90a69",
          "showTitle": false,
          "title": ""
        },
        "id": "IcpsrWf3lMs7"
      },
      "outputs": [],
      "source": [
        "from pyspark.sql import SparkSession\n",
        "import pyspark.sql.functions as F\n",
        "import pyspark.sql.types  as T\n",
        "from datetime import datetime, timedelta\n",
        "from pyspark.sql.types import DecimalType\n",
        "import re\n",
        "from pyspark.sql.window import Window"
      ]
    },
    {
      "cell_type": "code",
      "execution_count": null,
      "metadata": {
        "application/vnd.databricks.v1+cell": {
          "cellMetadata": {
            "byteLimit": 2048000,
            "rowLimit": 10000
          },
          "inputWidgets": {},
          "nuid": "06aab5db-3a5b-4adf-accc-e8d590f1c95b",
          "showTitle": false,
          "title": ""
        },
        "id": "6Th95l7jnO4h"
      },
      "outputs": [],
      "source": [
        "spark = (\n",
        "    SparkSession\n",
        "    .builder.appName(\"test_NAVA\")\n",
        "    .config('spark.sql.repl.eagerEval.enabled', True)\n",
        "    .master(\"local[*]\").getOrCreate()\n",
        ")"
      ]
    },
    {
      "cell_type": "code",
      "execution_count": null,
      "metadata": {
        "application/vnd.databricks.v1+cell": {
          "cellMetadata": {
            "byteLimit": 2048000,
            "rowLimit": 10000
          },
          "inputWidgets": {},
          "nuid": "70d9ea3f-9882-4558-84f3-c35d21c95364",
          "showTitle": false,
          "title": ""
        },
        "id": "wrwSk9t8VU1O"
      },
      "outputs": [],
      "source": [
        "df_ini=spark.read.csv('/content/tabela_saldo_inicial.txt', sep=';',header=True)\n",
        "df_mov1=spark.read.csv('/content/movimentacao_dia_02_04_2022.txt', sep=';',header=True)\n",
        "df_mov2=spark.read.csv('/content/movimentacao_dia_03_04_2022.txt', sep=';',header=True)"
      ]
    },
    {
      "cell_type": "code",
      "execution_count": null,
      "metadata": {
        "application/vnd.databricks.v1+cell": {
          "cellMetadata": {
            "byteLimit": 2048000,
            "rowLimit": 10000
          },
          "inputWidgets": {},
          "nuid": "3d5e6efc-a5ff-48a1-85bd-0928e83ff690",
          "showTitle": false,
          "title": ""
        },
        "id": "6tubZ_3MMNLk",
        "outputId": "9a1fd257-f9f5-48bd-9f45-b07a29967437"
      },
      "outputs": [
        {
          "output_type": "display_data",
          "data": {
            "text/html": [
              "<style scoped>\n",
              "  .table-result-container {\n",
              "    max-height: 300px;\n",
              "    overflow: auto;\n",
              "  }\n",
              "  table, th, td {\n",
              "    border: 1px solid black;\n",
              "    border-collapse: collapse;\n",
              "  }\n",
              "  th, td {\n",
              "    padding: 5px;\n",
              "  }\n",
              "  th {\n",
              "    text-align: left;\n",
              "  }\n",
              "</style><div class='table-result-container'><table class='table-result'><thead style='background-color: white'><tr><th>Nome</th><th>CPF</th><th>Saldo_Dia</th><th>data</th></tr></thead><tbody><tr><td>Maria</td><td>00000000001</td><td>523.86</td><td>2022-04-01</td></tr><tr><td>José</td><td>00000000002</td><td>917.78</td><td>2022-04-01</td></tr><tr><td>João</td><td>00000000003</td><td>321.84</td><td>2022-04-01</td></tr><tr><td>Paulo</td><td>00000000004</td><td>271.51</td><td>2022-04-01</td></tr><tr><td>Pedro</td><td>00000000005</td><td>225.55</td><td>2022-04-01</td></tr><tr><td>Antonio</td><td>00000000006</td><td>875.50</td><td>2022-04-01</td></tr><tr><td>Marcos</td><td>00000000007</td><td>365.88</td><td>2022-04-01</td></tr><tr><td>Luiz</td><td>00000000008</td><td>832.63</td><td>2022-04-01</td></tr><tr><td>Arthur</td><td>00000000009</td><td>221.12</td><td>2022-04-01</td></tr></tbody></table></div>"
            ]
          },
          "metadata": {
            "application/vnd.databricks.v1+output": {
              "addedWidgets": {},
              "aggData": [],
              "aggError": "",
              "aggOverflow": false,
              "aggSchema": [],
              "aggSeriesLimitReached": false,
              "aggType": "",
              "arguments": {},
              "columnCustomDisplayInfos": {},
              "data": [
                [
                  "Maria",
                  "00000000001",
                  "523.86",
                  "2022-04-01"
                ],
                [
                  "José",
                  "00000000002",
                  "917.78",
                  "2022-04-01"
                ],
                [
                  "João",
                  "00000000003",
                  "321.84",
                  "2022-04-01"
                ],
                [
                  "Paulo",
                  "00000000004",
                  "271.51",
                  "2022-04-01"
                ],
                [
                  "Pedro",
                  "00000000005",
                  "225.55",
                  "2022-04-01"
                ],
                [
                  "Antonio",
                  "00000000006",
                  "875.50",
                  "2022-04-01"
                ],
                [
                  "Marcos",
                  "00000000007",
                  "365.88",
                  "2022-04-01"
                ],
                [
                  "Luiz",
                  "00000000008",
                  "832.63",
                  "2022-04-01"
                ],
                [
                  "Arthur",
                  "00000000009",
                  "221.12",
                  "2022-04-01"
                ]
              ],
              "datasetInfos": [],
              "dbfsResultPath": null,
              "isJsonSchema": true,
              "metadata": {},
              "overflow": false,
              "plotOptions": {
                "customPlotOptions": {},
                "displayType": "table",
                "pivotAggregation": null,
                "pivotColumns": null,
                "xColumns": null,
                "yColumns": null
              },
              "removedWidgets": [],
              "schema": [
                {
                  "metadata": "{}",
                  "name": "Nome",
                  "type": "\"string\""
                },
                {
                  "metadata": "{}",
                  "name": "CPF",
                  "type": "\"string\""
                },
                {
                  "metadata": "{}",
                  "name": "Saldo_Dia",
                  "type": "\"decimal(18,2)\""
                },
                {
                  "metadata": "{}",
                  "name": "data",
                  "type": "\"date\""
                }
              ],
              "type": "table"
            }
          }
        }
      ],
      "source": [
        "display(df_ini)"
      ]
    },
    {
      "cell_type": "code",
      "execution_count": null,
      "metadata": {
        "application/vnd.databricks.v1+cell": {
          "cellMetadata": {
            "byteLimit": 2048000,
            "rowLimit": 10000
          },
          "inputWidgets": {},
          "nuid": "16fa0457-d3be-46ed-9a29-f8fafa49568b",
          "showTitle": false,
          "title": ""
        },
        "id": "Aue5WuAnMNLk",
        "outputId": "7da1e600-9176-4887-8f40-8763b7edebe5"
      },
      "outputs": [
        {
          "output_type": "display_data",
          "data": {
            "text/html": [
              "<style scoped>\n",
              "  .table-result-container {\n",
              "    max-height: 300px;\n",
              "    overflow: auto;\n",
              "  }\n",
              "  table, th, td {\n",
              "    border: 1px solid black;\n",
              "    border-collapse: collapse;\n",
              "  }\n",
              "  th, td {\n",
              "    padding: 5px;\n",
              "  }\n",
              "  th {\n",
              "    text-align: left;\n",
              "  }\n",
              "</style><div class='table-result-container'><table class='table-result'><thead style='background-color: white'><tr><th>Nome</th><th>CPF</th><th>Movimentacao_dia</th><th>data</th></tr></thead><tbody><tr><td>Paulo</td><td>00000000004</td><td>-32.56</td><td>02/04/2022</td></tr><tr><td>Pedro</td><td>00000000005</td><td>-169.51</td><td>02/04/2022</td></tr><tr><td>Antonio</td><td>00000000006</td><td>444.99</td><td>02/04/2022</td></tr><tr><td>Marcos</td><td>00000000007</td><td>291.73</td><td>02/04/2022</td></tr><tr><td>Marcos</td><td>00000000007</td><td>-133.67</td><td>02/04/2022</td></tr><tr><td>Marcos</td><td>00000000007</td><td>134.8</td><td>02/04/2022</td></tr><tr><td>Pedro</td><td>00000000005</td><td>-108.42</td><td>02/04/2022</td></tr><tr><td>Pedro</td><td>00000000005</td><td>134.8</td><td>02/04/2022</td></tr><tr><td>Pedro</td><td>00000000005</td><td>230.76</td><td>02/04/2022</td></tr><tr><td>Paulo</td><td>00000000004</td><td>274.18</td><td>02/04/2022</td></tr><tr><td>Antonio</td><td>00000000006</td><td>-161.22</td><td>02/04/2022</td></tr><tr><td>Guilherme</td><td>00000000010</td><td>600.35</td><td>02/04/2022</td></tr></tbody></table></div>"
            ]
          },
          "metadata": {
            "application/vnd.databricks.v1+output": {
              "addedWidgets": {},
              "aggData": [],
              "aggError": "",
              "aggOverflow": false,
              "aggSchema": [],
              "aggSeriesLimitReached": false,
              "aggType": "",
              "arguments": {},
              "columnCustomDisplayInfos": {},
              "data": [
                [
                  "Paulo",
                  "00000000004",
                  "-32.56",
                  "02/04/2022"
                ],
                [
                  "Pedro",
                  "00000000005",
                  "-169.51",
                  "02/04/2022"
                ],
                [
                  "Antonio",
                  "00000000006",
                  "444.99",
                  "02/04/2022"
                ],
                [
                  "Marcos",
                  "00000000007",
                  "291.73",
                  "02/04/2022"
                ],
                [
                  "Marcos",
                  "00000000007",
                  "-133.67",
                  "02/04/2022"
                ],
                [
                  "Marcos",
                  "00000000007",
                  "134.8",
                  "02/04/2022"
                ],
                [
                  "Pedro",
                  "00000000005",
                  "-108.42",
                  "02/04/2022"
                ],
                [
                  "Pedro",
                  "00000000005",
                  "134.8",
                  "02/04/2022"
                ],
                [
                  "Pedro",
                  "00000000005",
                  "230.76",
                  "02/04/2022"
                ],
                [
                  "Paulo",
                  "00000000004",
                  "274.18",
                  "02/04/2022"
                ],
                [
                  "Antonio",
                  "00000000006",
                  "-161.22",
                  "02/04/2022"
                ],
                [
                  "Guilherme",
                  "00000000010",
                  "600.35",
                  "02/04/2022"
                ]
              ],
              "datasetInfos": [],
              "dbfsResultPath": null,
              "isJsonSchema": true,
              "metadata": {},
              "overflow": false,
              "plotOptions": {
                "customPlotOptions": {},
                "displayType": "table",
                "pivotAggregation": null,
                "pivotColumns": null,
                "xColumns": null,
                "yColumns": null
              },
              "removedWidgets": [],
              "schema": [
                {
                  "metadata": "{}",
                  "name": "Nome",
                  "type": "\"string\""
                },
                {
                  "metadata": "{}",
                  "name": "CPF",
                  "type": "\"string\""
                },
                {
                  "metadata": "{}",
                  "name": "Movimentacao_dia",
                  "type": "\"string\""
                },
                {
                  "metadata": "{}",
                  "name": "data",
                  "type": "\"string\""
                }
              ],
              "type": "table"
            }
          }
        }
      ],
      "source": [
        "display(df_mov1)"
      ]
    },
    {
      "cell_type": "code",
      "execution_count": null,
      "metadata": {
        "application/vnd.databricks.v1+cell": {
          "cellMetadata": {
            "byteLimit": 2048000,
            "rowLimit": 10000
          },
          "inputWidgets": {},
          "nuid": "5ef15e28-7c72-47fc-8741-3cf0596c4eb8",
          "showTitle": false,
          "title": ""
        },
        "id": "tWADmcwKMNLl",
        "outputId": "0c695fe0-2b63-4b04-f9fb-416ccc0f9fe7"
      },
      "outputs": [
        {
          "output_type": "display_data",
          "data": {
            "text/html": [
              "<style scoped>\n",
              "  .table-result-container {\n",
              "    max-height: 300px;\n",
              "    overflow: auto;\n",
              "  }\n",
              "  table, th, td {\n",
              "    border: 1px solid black;\n",
              "    border-collapse: collapse;\n",
              "  }\n",
              "  th, td {\n",
              "    padding: 5px;\n",
              "  }\n",
              "  th {\n",
              "    text-align: left;\n",
              "  }\n",
              "</style><div class='table-result-container'><table class='table-result'><thead style='background-color: white'><tr><th>Nome</th><th>CPF</th><th>Saldo_Dia</th><th>data</th></tr></thead><tbody><tr><td>Maria</td><td>00000000001</td><td>523.86</td><td>2022-04-01</td></tr><tr><td>José</td><td>00000000002</td><td>917.78</td><td>2022-04-01</td></tr><tr><td>João</td><td>00000000003</td><td>321.84</td><td>2022-04-01</td></tr><tr><td>Paulo</td><td>00000000004</td><td>271.51</td><td>2022-04-01</td></tr><tr><td>Pedro</td><td>00000000005</td><td>225.55</td><td>2022-04-01</td></tr><tr><td>Antonio</td><td>00000000006</td><td>875.50</td><td>2022-04-01</td></tr><tr><td>Marcos</td><td>00000000007</td><td>365.88</td><td>2022-04-01</td></tr><tr><td>Luiz</td><td>00000000008</td><td>832.63</td><td>2022-04-01</td></tr><tr><td>Arthur</td><td>00000000009</td><td>221.12</td><td>2022-04-01</td></tr><tr><td>Paulo</td><td>00000000004</td><td>-32.56</td><td>2022-04-02</td></tr><tr><td>Pedro</td><td>00000000005</td><td>-169.51</td><td>2022-04-02</td></tr><tr><td>Antonio</td><td>00000000006</td><td>444.99</td><td>2022-04-02</td></tr><tr><td>Marcos</td><td>00000000007</td><td>291.73</td><td>2022-04-02</td></tr><tr><td>Marcos</td><td>00000000007</td><td>-133.67</td><td>2022-04-02</td></tr><tr><td>Marcos</td><td>00000000007</td><td>134.80</td><td>2022-04-02</td></tr><tr><td>Pedro</td><td>00000000005</td><td>-108.42</td><td>2022-04-02</td></tr><tr><td>Pedro</td><td>00000000005</td><td>134.80</td><td>2022-04-02</td></tr><tr><td>Pedro</td><td>00000000005</td><td>230.76</td><td>2022-04-02</td></tr><tr><td>Paulo</td><td>00000000004</td><td>274.18</td><td>2022-04-02</td></tr><tr><td>Antonio</td><td>00000000006</td><td>-161.22</td><td>2022-04-02</td></tr><tr><td>Guilherme</td><td>00000000010</td><td>600.35</td><td>2022-04-02</td></tr><tr><td>Maria</td><td>00000000001</td><td>157.62</td><td>2022-04-03</td></tr><tr><td>José</td><td>00000000002</td><td>56.80</td><td>2022-04-03</td></tr><tr><td>João</td><td>00000000003</td><td>-106.57</td><td>2022-04-03</td></tr><tr><td>Luiz</td><td>00000000008</td><td>-36.47</td><td>2022-04-03</td></tr><tr><td>João</td><td>00000000003</td><td>-406.67</td><td>2022-04-03</td></tr><tr><td>Luiz</td><td>00000000008</td><td>226.83</td><td>2022-04-03</td></tr><tr><td>José</td><td>00000000002</td><td>492.13</td><td>2022-04-03</td></tr><tr><td>João</td><td>00000000003</td><td>203.97</td><td>2022-04-03</td></tr><tr><td>Maria</td><td>00000000001</td><td>518.89</td><td>2022-04-03</td></tr><tr><td>Maria</td><td>00000000001</td><td>214.81</td><td>2022-04-03</td></tr><tr><td>Guilherme</td><td>00000000010</td><td>-334.00</td><td>2022-04-03</td></tr><tr><td>Guilherme</td><td>00000000010</td><td>59.26</td><td>2022-04-03</td></tr><tr><td>Helena</td><td>00000000011</td><td>768.36</td><td>2022-04-03</td></tr><tr><td>Pedro</td><td>00000000005</td><td>169.51</td><td>2022-04-02</td></tr><tr><td>Marcos</td><td>00000000007</td><td>133.67</td><td>2022-04-02</td></tr><tr><td>Antonio</td><td>00000000006</td><td>161.22</td><td>2022-04-02</td></tr></tbody></table></div>"
            ]
          },
          "metadata": {
            "application/vnd.databricks.v1+output": {
              "addedWidgets": {},
              "aggData": [],
              "aggError": "",
              "aggOverflow": false,
              "aggSchema": [],
              "aggSeriesLimitReached": false,
              "aggType": "",
              "arguments": {},
              "columnCustomDisplayInfos": {},
              "data": [
                [
                  "Maria",
                  "00000000001",
                  "523.86",
                  "2022-04-01"
                ],
                [
                  "José",
                  "00000000002",
                  "917.78",
                  "2022-04-01"
                ],
                [
                  "João",
                  "00000000003",
                  "321.84",
                  "2022-04-01"
                ],
                [
                  "Paulo",
                  "00000000004",
                  "271.51",
                  "2022-04-01"
                ],
                [
                  "Pedro",
                  "00000000005",
                  "225.55",
                  "2022-04-01"
                ],
                [
                  "Antonio",
                  "00000000006",
                  "875.50",
                  "2022-04-01"
                ],
                [
                  "Marcos",
                  "00000000007",
                  "365.88",
                  "2022-04-01"
                ],
                [
                  "Luiz",
                  "00000000008",
                  "832.63",
                  "2022-04-01"
                ],
                [
                  "Arthur",
                  "00000000009",
                  "221.12",
                  "2022-04-01"
                ],
                [
                  "Paulo",
                  "00000000004",
                  "-32.56",
                  "2022-04-02"
                ],
                [
                  "Pedro",
                  "00000000005",
                  "-169.51",
                  "2022-04-02"
                ],
                [
                  "Antonio",
                  "00000000006",
                  "444.99",
                  "2022-04-02"
                ],
                [
                  "Marcos",
                  "00000000007",
                  "291.73",
                  "2022-04-02"
                ],
                [
                  "Marcos",
                  "00000000007",
                  "-133.67",
                  "2022-04-02"
                ],
                [
                  "Marcos",
                  "00000000007",
                  "134.80",
                  "2022-04-02"
                ],
                [
                  "Pedro",
                  "00000000005",
                  "-108.42",
                  "2022-04-02"
                ],
                [
                  "Pedro",
                  "00000000005",
                  "134.80",
                  "2022-04-02"
                ],
                [
                  "Pedro",
                  "00000000005",
                  "230.76",
                  "2022-04-02"
                ],
                [
                  "Paulo",
                  "00000000004",
                  "274.18",
                  "2022-04-02"
                ],
                [
                  "Antonio",
                  "00000000006",
                  "-161.22",
                  "2022-04-02"
                ],
                [
                  "Guilherme",
                  "00000000010",
                  "600.35",
                  "2022-04-02"
                ],
                [
                  "Maria",
                  "00000000001",
                  "157.62",
                  "2022-04-03"
                ],
                [
                  "José",
                  "00000000002",
                  "56.80",
                  "2022-04-03"
                ],
                [
                  "João",
                  "00000000003",
                  "-106.57",
                  "2022-04-03"
                ],
                [
                  "Luiz",
                  "00000000008",
                  "-36.47",
                  "2022-04-03"
                ],
                [
                  "João",
                  "00000000003",
                  "-406.67",
                  "2022-04-03"
                ],
                [
                  "Luiz",
                  "00000000008",
                  "226.83",
                  "2022-04-03"
                ],
                [
                  "José",
                  "00000000002",
                  "492.13",
                  "2022-04-03"
                ],
                [
                  "João",
                  "00000000003",
                  "203.97",
                  "2022-04-03"
                ],
                [
                  "Maria",
                  "00000000001",
                  "518.89",
                  "2022-04-03"
                ],
                [
                  "Maria",
                  "00000000001",
                  "214.81",
                  "2022-04-03"
                ],
                [
                  "Guilherme",
                  "00000000010",
                  "-334.00",
                  "2022-04-03"
                ],
                [
                  "Guilherme",
                  "00000000010",
                  "59.26",
                  "2022-04-03"
                ],
                [
                  "Helena",
                  "00000000011",
                  "768.36",
                  "2022-04-03"
                ],
                [
                  "Pedro",
                  "00000000005",
                  "169.51",
                  "2022-04-02"
                ],
                [
                  "Marcos",
                  "00000000007",
                  "133.67",
                  "2022-04-02"
                ],
                [
                  "Antonio",
                  "00000000006",
                  "161.22",
                  "2022-04-02"
                ]
              ],
              "datasetInfos": [],
              "dbfsResultPath": null,
              "isJsonSchema": true,
              "metadata": {},
              "overflow": false,
              "plotOptions": {
                "customPlotOptions": {},
                "displayType": "table",
                "pivotAggregation": null,
                "pivotColumns": null,
                "xColumns": null,
                "yColumns": null
              },
              "removedWidgets": [],
              "schema": [
                {
                  "metadata": "{}",
                  "name": "Nome",
                  "type": "\"string\""
                },
                {
                  "metadata": "{}",
                  "name": "CPF",
                  "type": "\"string\""
                },
                {
                  "metadata": "{}",
                  "name": "Saldo_Dia",
                  "type": "\"decimal(18,2)\""
                },
                {
                  "metadata": "{}",
                  "name": "data",
                  "type": "\"date\""
                }
              ],
              "type": "table"
            }
          }
        }
      ],
      "source": [
        "display(df_total)"
      ]
    },
    {
      "cell_type": "code",
      "execution_count": null,
      "metadata": {
        "application/vnd.databricks.v1+cell": {
          "cellMetadata": {
            "byteLimit": 2048000,
            "rowLimit": 10000
          },
          "inputWidgets": {},
          "nuid": "178f0a6e-bc2c-486d-a6c9-7bfd239baa28",
          "showTitle": false,
          "title": ""
        },
        "id": "5tM8TYMHMNLl"
      },
      "outputs": [],
      "source": [
        "df_mov_total = df_mov1.union(df_mov2)"
      ]
    },
    {
      "cell_type": "code",
      "execution_count": null,
      "metadata": {
        "application/vnd.databricks.v1+cell": {
          "cellMetadata": {
            "byteLimit": 2048000,
            "rowLimit": 10000
          },
          "inputWidgets": {},
          "nuid": "6ed7eeff-694a-4922-82aa-0e7d7680d570",
          "showTitle": false,
          "title": ""
        },
        "id": "HBeRTrc1MNLl"
      },
      "outputs": [],
      "source": [
        "df_mov_total = (df_mov_total.withColumn('data', F.to_date(df_mov_total['data'], 'dd/MM/yyyy'))\n",
        "                .withColumn(\"Movimentacao_dia\",F.col(\"Movimentacao_dia\").cast(DecimalType(18,2)))\n",
        "                            .withColumnRenamed(\"Movimentacao_dia\", \"Saldo_Dia\")\n",
        ")\n",
        "df_ini = (df_ini.withColumn('data', F.to_date(df_ini['data'], 'dd/MM/yyyy'))\n",
        "          .withColumn(\"Saldo_Inicial_CC\",F.col(\"Saldo_Inicial_CC\").cast(DecimalType(18,2)))\n",
        "          .withColumnRenamed(\"Saldo_Inicial_CC\", \"Saldo_Dia\"))\n",
        "\n",
        "df_total = df_ini.union(df_mov_total)"
      ]
    },
    {
      "cell_type": "code",
      "execution_count": null,
      "metadata": {
        "application/vnd.databricks.v1+cell": {
          "cellMetadata": {
            "byteLimit": 2048000,
            "rowLimit": 10000
          },
          "inputWidgets": {},
          "nuid": "a7a76acd-154d-497c-ba36-7c0d00e48625",
          "showTitle": false,
          "title": ""
        },
        "id": "hzokGCTvMNLm",
        "outputId": "7e751d72-b550-4c31-b995-b012b8e53503"
      },
      "outputs": [
        {
          "output_type": "display_data",
          "data": {
            "text/html": [
              "<style scoped>\n",
              "  .table-result-container {\n",
              "    max-height: 300px;\n",
              "    overflow: auto;\n",
              "  }\n",
              "  table, th, td {\n",
              "    border: 1px solid black;\n",
              "    border-collapse: collapse;\n",
              "  }\n",
              "  th, td {\n",
              "    padding: 5px;\n",
              "  }\n",
              "  th {\n",
              "    text-align: left;\n",
              "  }\n",
              "</style><div class='table-result-container'><table class='table-result'><thead style='background-color: white'><tr><th>Nome</th><th>CPF</th><th>Saldo_Dia</th><th>data</th><th>saldo_final</th></tr></thead><tbody><tr><td>Maria</td><td>00000000001</td><td>523.86</td><td>2022-04-01</td><td>523.86</td></tr><tr><td>Maria</td><td>00000000001</td><td>157.62</td><td>2022-04-03</td><td>1415.18</td></tr><tr><td>Maria</td><td>00000000001</td><td>518.89</td><td>2022-04-03</td><td>1415.18</td></tr><tr><td>Maria</td><td>00000000001</td><td>214.81</td><td>2022-04-03</td><td>1415.18</td></tr><tr><td>José</td><td>00000000002</td><td>917.78</td><td>2022-04-01</td><td>917.78</td></tr><tr><td>José</td><td>00000000002</td><td>56.80</td><td>2022-04-03</td><td>1466.71</td></tr><tr><td>José</td><td>00000000002</td><td>492.13</td><td>2022-04-03</td><td>1466.71</td></tr><tr><td>João</td><td>00000000003</td><td>321.84</td><td>2022-04-01</td><td>321.84</td></tr><tr><td>João</td><td>00000000003</td><td>-106.57</td><td>2022-04-03</td><td>12.57</td></tr><tr><td>João</td><td>00000000003</td><td>-406.67</td><td>2022-04-03</td><td>12.57</td></tr><tr><td>João</td><td>00000000003</td><td>203.97</td><td>2022-04-03</td><td>12.57</td></tr><tr><td>Paulo</td><td>00000000004</td><td>271.51</td><td>2022-04-01</td><td>271.51</td></tr><tr><td>Paulo</td><td>00000000004</td><td>-32.56</td><td>2022-04-02</td><td>513.13</td></tr><tr><td>Paulo</td><td>00000000004</td><td>274.18</td><td>2022-04-02</td><td>513.13</td></tr><tr><td>Pedro</td><td>00000000005</td><td>225.55</td><td>2022-04-01</td><td>225.55</td></tr><tr><td>Pedro</td><td>00000000005</td><td>-169.51</td><td>2022-04-02</td><td>482.69</td></tr><tr><td>Pedro</td><td>00000000005</td><td>-108.42</td><td>2022-04-02</td><td>482.69</td></tr><tr><td>Pedro</td><td>00000000005</td><td>134.80</td><td>2022-04-02</td><td>482.69</td></tr><tr><td>Pedro</td><td>00000000005</td><td>230.76</td><td>2022-04-02</td><td>482.69</td></tr><tr><td>Pedro</td><td>00000000005</td><td>169.51</td><td>2022-04-02</td><td>482.69</td></tr><tr><td>Antonio</td><td>00000000006</td><td>875.50</td><td>2022-04-01</td><td>875.50</td></tr><tr><td>Antonio</td><td>00000000006</td><td>444.99</td><td>2022-04-02</td><td>1320.49</td></tr><tr><td>Antonio</td><td>00000000006</td><td>-161.22</td><td>2022-04-02</td><td>1320.49</td></tr><tr><td>Antonio</td><td>00000000006</td><td>161.22</td><td>2022-04-02</td><td>1320.49</td></tr><tr><td>Marcos</td><td>00000000007</td><td>365.88</td><td>2022-04-01</td><td>365.88</td></tr><tr><td>Marcos</td><td>00000000007</td><td>291.73</td><td>2022-04-02</td><td>792.41</td></tr><tr><td>Marcos</td><td>00000000007</td><td>-133.67</td><td>2022-04-02</td><td>792.41</td></tr><tr><td>Marcos</td><td>00000000007</td><td>134.80</td><td>2022-04-02</td><td>792.41</td></tr><tr><td>Marcos</td><td>00000000007</td><td>133.67</td><td>2022-04-02</td><td>792.41</td></tr><tr><td>Luiz</td><td>00000000008</td><td>832.63</td><td>2022-04-01</td><td>832.63</td></tr><tr><td>Luiz</td><td>00000000008</td><td>-36.47</td><td>2022-04-03</td><td>1022.99</td></tr><tr><td>Luiz</td><td>00000000008</td><td>226.83</td><td>2022-04-03</td><td>1022.99</td></tr><tr><td>Arthur</td><td>00000000009</td><td>221.12</td><td>2022-04-01</td><td>221.12</td></tr><tr><td>Guilherme</td><td>00000000010</td><td>600.35</td><td>2022-04-02</td><td>600.35</td></tr><tr><td>Guilherme</td><td>00000000010</td><td>-334.00</td><td>2022-04-03</td><td>325.61</td></tr><tr><td>Guilherme</td><td>00000000010</td><td>59.26</td><td>2022-04-03</td><td>325.61</td></tr><tr><td>Helena</td><td>00000000011</td><td>768.36</td><td>2022-04-03</td><td>768.36</td></tr></tbody></table></div>"
            ]
          },
          "metadata": {
            "application/vnd.databricks.v1+output": {
              "addedWidgets": {},
              "aggData": [],
              "aggError": "",
              "aggOverflow": false,
              "aggSchema": [],
              "aggSeriesLimitReached": false,
              "aggType": "",
              "arguments": {},
              "columnCustomDisplayInfos": {},
              "data": [
                [
                  "Maria",
                  "00000000001",
                  "523.86",
                  "2022-04-01",
                  "523.86"
                ],
                [
                  "Maria",
                  "00000000001",
                  "157.62",
                  "2022-04-03",
                  "1415.18"
                ],
                [
                  "Maria",
                  "00000000001",
                  "518.89",
                  "2022-04-03",
                  "1415.18"
                ],
                [
                  "Maria",
                  "00000000001",
                  "214.81",
                  "2022-04-03",
                  "1415.18"
                ],
                [
                  "José",
                  "00000000002",
                  "917.78",
                  "2022-04-01",
                  "917.78"
                ],
                [
                  "José",
                  "00000000002",
                  "56.80",
                  "2022-04-03",
                  "1466.71"
                ],
                [
                  "José",
                  "00000000002",
                  "492.13",
                  "2022-04-03",
                  "1466.71"
                ],
                [
                  "João",
                  "00000000003",
                  "321.84",
                  "2022-04-01",
                  "321.84"
                ],
                [
                  "João",
                  "00000000003",
                  "-106.57",
                  "2022-04-03",
                  "12.57"
                ],
                [
                  "João",
                  "00000000003",
                  "-406.67",
                  "2022-04-03",
                  "12.57"
                ],
                [
                  "João",
                  "00000000003",
                  "203.97",
                  "2022-04-03",
                  "12.57"
                ],
                [
                  "Paulo",
                  "00000000004",
                  "271.51",
                  "2022-04-01",
                  "271.51"
                ],
                [
                  "Paulo",
                  "00000000004",
                  "-32.56",
                  "2022-04-02",
                  "513.13"
                ],
                [
                  "Paulo",
                  "00000000004",
                  "274.18",
                  "2022-04-02",
                  "513.13"
                ],
                [
                  "Pedro",
                  "00000000005",
                  "225.55",
                  "2022-04-01",
                  "225.55"
                ],
                [
                  "Pedro",
                  "00000000005",
                  "-169.51",
                  "2022-04-02",
                  "482.69"
                ],
                [
                  "Pedro",
                  "00000000005",
                  "-108.42",
                  "2022-04-02",
                  "482.69"
                ],
                [
                  "Pedro",
                  "00000000005",
                  "134.80",
                  "2022-04-02",
                  "482.69"
                ],
                [
                  "Pedro",
                  "00000000005",
                  "230.76",
                  "2022-04-02",
                  "482.69"
                ],
                [
                  "Pedro",
                  "00000000005",
                  "169.51",
                  "2022-04-02",
                  "482.69"
                ],
                [
                  "Antonio",
                  "00000000006",
                  "875.50",
                  "2022-04-01",
                  "875.50"
                ],
                [
                  "Antonio",
                  "00000000006",
                  "444.99",
                  "2022-04-02",
                  "1320.49"
                ],
                [
                  "Antonio",
                  "00000000006",
                  "-161.22",
                  "2022-04-02",
                  "1320.49"
                ],
                [
                  "Antonio",
                  "00000000006",
                  "161.22",
                  "2022-04-02",
                  "1320.49"
                ],
                [
                  "Marcos",
                  "00000000007",
                  "365.88",
                  "2022-04-01",
                  "365.88"
                ],
                [
                  "Marcos",
                  "00000000007",
                  "291.73",
                  "2022-04-02",
                  "792.41"
                ],
                [
                  "Marcos",
                  "00000000007",
                  "-133.67",
                  "2022-04-02",
                  "792.41"
                ],
                [
                  "Marcos",
                  "00000000007",
                  "134.80",
                  "2022-04-02",
                  "792.41"
                ],
                [
                  "Marcos",
                  "00000000007",
                  "133.67",
                  "2022-04-02",
                  "792.41"
                ],
                [
                  "Luiz",
                  "00000000008",
                  "832.63",
                  "2022-04-01",
                  "832.63"
                ],
                [
                  "Luiz",
                  "00000000008",
                  "-36.47",
                  "2022-04-03",
                  "1022.99"
                ],
                [
                  "Luiz",
                  "00000000008",
                  "226.83",
                  "2022-04-03",
                  "1022.99"
                ],
                [
                  "Arthur",
                  "00000000009",
                  "221.12",
                  "2022-04-01",
                  "221.12"
                ],
                [
                  "Guilherme",
                  "00000000010",
                  "600.35",
                  "2022-04-02",
                  "600.35"
                ],
                [
                  "Guilherme",
                  "00000000010",
                  "-334.00",
                  "2022-04-03",
                  "325.61"
                ],
                [
                  "Guilherme",
                  "00000000010",
                  "59.26",
                  "2022-04-03",
                  "325.61"
                ],
                [
                  "Helena",
                  "00000000011",
                  "768.36",
                  "2022-04-03",
                  "768.36"
                ]
              ],
              "datasetInfos": [],
              "dbfsResultPath": null,
              "isJsonSchema": true,
              "metadata": {},
              "overflow": false,
              "plotOptions": {
                "customPlotOptions": {},
                "displayType": "table",
                "pivotAggregation": null,
                "pivotColumns": null,
                "xColumns": null,
                "yColumns": null
              },
              "removedWidgets": [],
              "schema": [
                {
                  "metadata": "{}",
                  "name": "Nome",
                  "type": "\"string\""
                },
                {
                  "metadata": "{}",
                  "name": "CPF",
                  "type": "\"string\""
                },
                {
                  "metadata": "{}",
                  "name": "Saldo_Dia",
                  "type": "\"decimal(18,2)\""
                },
                {
                  "metadata": "{}",
                  "name": "data",
                  "type": "\"date\""
                },
                {
                  "metadata": "{}",
                  "name": "saldo_final",
                  "type": "\"decimal(29,2)\""
                }
              ],
              "type": "table"
            }
          }
        }
      ],
      "source": [
        "# Calculando o saldo final usando janelas\n",
        "window_spec = Window.partitionBy(\"CPF\").orderBy(\"data\")\n",
        "df = df_total.withColumn(\"saldo_final\", F.round(F.sum(\"Saldo_Dia\").over(window_spec), 2))\n",
        "\n",
        "display(df)"
      ]
    },
    {
      "cell_type": "code",
      "execution_count": null,
      "metadata": {
        "application/vnd.databricks.v1+cell": {
          "cellMetadata": {},
          "inputWidgets": {},
          "nuid": "e8813015-2df2-4eb1-98c5-de3e5390423c",
          "showTitle": false,
          "title": ""
        },
        "id": "yvbAmWHcMNLm"
      },
      "outputs": [],
      "source": [
        "df.write.csv('/content/movimentacao',sep=';',mode='overwrite', header=True, encoding='iso-8859-1')"
      ]
    },
    {
      "cell_type": "code",
      "execution_count": null,
      "metadata": {
        "application/vnd.databricks.v1+cell": {
          "cellMetadata": {
            "byteLimit": 2048000,
            "rowLimit": 10000
          },
          "inputWidgets": {},
          "nuid": "50793a14-4283-4749-b709-c4b8bdfa8750",
          "showTitle": false,
          "title": ""
        },
        "id": "uvhzMDVxMNLm",
        "outputId": "bd962dce-2e78-4741-a2f2-ff39eea8dcd1"
      },
      "outputs": [
        {
          "output_type": "stream",
          "name": "stdout",
          "text": [
            "\nMaria\nData: 01/04/2022 | Saldo: 523.86\n\t\tMov: 01/04/2022 | 523.86\nData: 02/04/2022 | Saldo: 523.86\nData: 03/04/2022 | Saldo: 1939.04\n\t\tMov: 03/04/2022 | 157.62\n\t\tMov: 03/04/2022 | 518.89\n\t\tMov: 03/04/2022 | 214.81\n\nJosé\nData: 01/04/2022 | Saldo: 917.78\n\t\tMov: 01/04/2022 | 917.78\nData: 02/04/2022 | Saldo: 917.78\nData: 03/04/2022 | Saldo: 2384.49\n\t\tMov: 03/04/2022 | 56.80\n\t\tMov: 03/04/2022 | 492.13\n\nJoão\nData: 01/04/2022 | Saldo: 321.84\n\t\tMov: 01/04/2022 | 321.84\nData: 02/04/2022 | Saldo: 321.84\nData: 03/04/2022 | Saldo: 334.41\n\t\tMov: 03/04/2022 | -106.57\n\t\tMov: 03/04/2022 | -406.67\n\t\tMov: 03/04/2022 | 203.97\n\nPaulo\nData: 01/04/2022 | Saldo: 271.51\n\t\tMov: 01/04/2022 | 271.51\nData: 02/04/2022 | Saldo: 784.64\n\t\tMov: 02/04/2022 | -32.56\n\t\tMov: 02/04/2022 | 274.18\nData: 03/04/2022 | Saldo: 784.64\n\nPedro\nData: 01/04/2022 | Saldo: 225.55\n\t\tMov: 01/04/2022 | 225.55\nData: 02/04/2022 | Saldo: 708.24\n\t\tMov: 02/04/2022 | -169.51\n\t\tMov: 02/04/2022 | -108.42\n\t\tMov: 02/04/2022 | 134.80\n\t\tMov: 02/04/2022 | 230.76\n\t\tMov: 02/04/2022 | 169.51\nData: 03/04/2022 | Saldo: 708.24\n\nAntonio\nData: 01/04/2022 | Saldo: 875.50\n\t\tMov: 01/04/2022 | 875.50\nData: 02/04/2022 | Saldo: 2195.99\n\t\tMov: 02/04/2022 | 444.99\n\t\tMov: 02/04/2022 | -161.22\n\t\tMov: 02/04/2022 | 161.22\nData: 03/04/2022 | Saldo: 2195.99\n\nMarcos\nData: 01/04/2022 | Saldo: 365.88\n\t\tMov: 01/04/2022 | 365.88\nData: 02/04/2022 | Saldo: 1158.29\n\t\tMov: 02/04/2022 | 291.73\n\t\tMov: 02/04/2022 | -133.67\n\t\tMov: 02/04/2022 | 134.80\n\t\tMov: 02/04/2022 | 133.67\nData: 03/04/2022 | Saldo: 1158.29\n\nLuiz\nData: 01/04/2022 | Saldo: 832.63\n\t\tMov: 01/04/2022 | 832.63\nData: 02/04/2022 | Saldo: 832.63\nData: 03/04/2022 | Saldo: 1855.62\n\t\tMov: 03/04/2022 | -36.47\n\t\tMov: 03/04/2022 | 226.83\n\nArthur\nData: 01/04/2022 | Saldo: 221.12\n\t\tMov: 01/04/2022 | 221.12\nData: 02/04/2022 | Saldo: 221.12\nData: 03/04/2022 | Saldo: 221.12\n\nGuilherme\nData: 02/04/2022 | Saldo: 600.35\n\t\tMov: 02/04/2022 | 600.35\nData: 03/04/2022 | Saldo: 925.96\n\t\tMov: 03/04/2022 | -334.00\n\t\tMov: 03/04/2022 | 59.26\n\nHelena\nData: 03/04/2022 | Saldo: 768.36\n\t\tMov: 03/04/2022 | 768.36\n"
          ]
        }
      ],
      "source": [
        "def list_extrato(l: list) -> list:\n",
        "    idx = None\n",
        "    for i in l:\n",
        "        if re.search(r\"Data: \\d{2}/\\d{2}/\\d{4} \\| Saldo: \", i):\n",
        "            idx = i\n",
        "    dt = idx.split(' |')[0].replace('Data:', '').strip()\n",
        "    dt = datetime.strptime(dt, '%d/%m/%Y')\n",
        "    vl = idx.split(' |')[1].replace('Saldo:', '').strip()\n",
        "    while dt < datetime(2022, 4, 3):\n",
        "        dt += timedelta(days=1)\n",
        "        lista.append(f'Data: {dt.strftime(\"%d/%m/%Y\")} | Saldo: {vl}')\n",
        "    return l\n",
        "\n",
        "def saldo_final(cpf_cliente: int) -> dict:\n",
        "    saldo_final = {}\n",
        "    saldo_inicial = 0\n",
        "    # For para pegar o saldo final de cada dia\n",
        "    for row_saldo in df_total.filter(df_total[\"CPF\"] == cpf_cliente).rdd.toLocalIterator():\n",
        "        saldo_inicial += row_saldo['Saldo_Dia']\n",
        "        saldo_final[row_saldo['data'].strftime(\"%d/%m/%Y\")] = saldo_inicial\n",
        "    return saldo_final\n",
        "base_clientes = df_total.dropDuplicates(subset=[\"CPF\"])\n",
        "if __name__ == \"__main__\":\n",
        "    lista_final = []\n",
        "    for row in base_clientes.rdd.toLocalIterator():\n",
        "        data_anterior = row[\"data\"]\n",
        "        saldo = row[\"Saldo_Dia\"]\n",
        "        lista = [f'\\n{row[\"Nome\"]}', f'Data: {data_anterior.strftime(\"%d/%m/%Y\")} | Saldo: {saldo}']\n",
        "        saldo_final_dia = saldo_final(row['CPF'])\n",
        "        saldo_final_dia[data_anterior.strftime(\"%d/%m/%Y\")] = saldo\n",
        "        for row_mov in df_total.filter(df_total[\"CPF\"] == row['CPF']).rdd.toLocalIterator():\n",
        "            if data_anterior == row_mov['data']:\n",
        "                saldo += row_mov['Saldo_Dia']\n",
        "                lista.append(f\"\\t\\tMov: {row_mov['data'].strftime('%d/%m/%Y')} | {(row_mov['Saldo_Dia'])}\")\n",
        "            else:\n",
        "                if(row_mov['data'] - data_anterior).days == 2:\n",
        "                    dia = row_mov['data'] - timedelta(days=1)\n",
        "                    valor  = row_mov['data'] - timedelta(days=2)\n",
        "                    lista.append(f'Data: {dia.strftime(\"%d/%m/%Y\")} | Saldo: XYZ{valor.strftime(\"%d/%m/%Y\")}')\n",
        "                saldo += row_mov['Saldo_Dia']\n",
        "                lista.append(f\"Data: {row_mov['data'].strftime('%d/%m/%Y')} | Saldo: XYZ{row_mov['data'].strftime('%d/%m/%Y')}\")\n",
        "                lista.append(f\"\\t\\tMov: {row_mov['data'].strftime('%d/%m/%Y')} | {row_mov['Saldo_Dia']}\")\n",
        "            data_anterior = row_mov.data\n",
        "        saldo_final_dia[data_anterior.strftime(\"%d/%m/%Y\")] = saldo\n",
        "        lista = [re.sub(r'XYZ(\\d{2}/\\d{2}/\\d{4})', lambda match: str(saldo_final_dia.get(match.group(1), match.group(0))), linha) for linha in lista]\n",
        "        lista = list_extrato(lista)\n",
        "\n",
        "        for x in lista:\n",
        "            lista_final.append(x)\n",
        "            print(x)\n",
        "\n"
      ]
    }
  ],
  "metadata": {
    "application/vnd.databricks.v1+notebook": {
      "dashboards": [],
      "environmentMetadata": null,
      "language": "python",
      "notebookMetadata": {
        "pythonIndentUnit": 2
      },
      "notebookName": "TestNava (1)",
      "widgets": {}
    },
    "colab": {
      "provenance": []
    },
    "kernelspec": {
      "display_name": "Python 3",
      "name": "python3"
    },
    "language_info": {
      "name": "python"
    }
  },
  "nbformat": 4,
  "nbformat_minor": 0
}